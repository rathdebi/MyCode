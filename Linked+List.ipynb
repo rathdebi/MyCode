{
  "nbformat": 4,
  "nbformat_minor": 0,
  "metadata": {
    "kernelspec": {
      "display_name": "Python 3",
      "language": "python",
      "name": "python3"
    },
    "language_info": {
      "codemirror_mode": {
        "name": "ipython",
        "version": 3
      },
      "file_extension": ".py",
      "mimetype": "text/x-python",
      "name": "python",
      "nbconvert_exporter": "python",
      "pygments_lexer": "ipython3",
      "version": "3.6.3"
    },
    "colab": {
      "name": "Linked+List.ipynb",
      "provenance": [],
      "collapsed_sections": [],
      "include_colab_link": true
    }
  },
  "cells": [
    {
      "cell_type": "markdown",
      "metadata": {
        "id": "view-in-github",
        "colab_type": "text"
      },
      "source": [
        "<a href=\"https://colab.research.google.com/github/rathdebi/MyCode/blob/master/Linked%2BList.ipynb\" target=\"_parent\"><img src=\"https://colab.research.google.com/assets/colab-badge.svg\" alt=\"Open In Colab\"/></a>"
      ]
    },
    {
      "cell_type": "code",
      "metadata": {
        "collapsed": true,
        "id": "lcRRnhvxTfRx"
      },
      "source": [
        "class Node:\n",
        "    def __init__(self, data):\n",
        "        self.data = data\n",
        "        self.next = None # make None as the default value for next."
      ],
      "execution_count": 8,
      "outputs": []
    },
    {
      "cell_type": "code",
      "metadata": {
        "collapsed": true,
        "id": "S8dgd4i-TfR3"
      },
      "source": [
        "# count nodes from a linked list\n",
        "def count_nodes(head):\n",
        "    # assuming that head != None\n",
        "    # if then handle it using below\n",
        "    if head == None: return \"Not a head , breaking out\"\n",
        "    count = 1\n",
        "    current = head\n",
        "    while current.next is not None:\n",
        "        current = current.next\n",
        "        count += 1\n",
        "    return count"
      ],
      "execution_count": 9,
      "outputs": []
    },
    {
      "cell_type": "code",
      "metadata": {
        "id": "UwZcnCc5je3Y"
      },
      "source": [
        "# insert/append an element to a linked list\r\n",
        "def insert_nodes(head,data):\r\n",
        "  # assuming that head !=None\r\n",
        "  # append or insert should be a unique head from where we need to start\r\n",
        "  if head == None:\r\n",
        "    # instead create a head node\r\n",
        "    head = Node(data)\r\n",
        "    return\r\n",
        "  current = head\r\n",
        "  while current.next is not None:\r\n",
        "    current = current.next\r\n",
        "  current.next = Node(data)\r\n",
        "  return current.next\r\n"
      ],
      "execution_count": 13,
      "outputs": []
    },
    {
      "cell_type": "code",
      "metadata": {
        "id": "MB-W2VeLjjwX"
      },
      "source": [
        "# prepend an element to a linked list\r\n",
        "def prepend_nodes(data):\r\n",
        "  # creating a new head as we are prepending\r\n",
        "  head = Node(data)\r\n",
        "  new_head = head.next\r\n",
        "  head = new_head\r\n",
        "  return head\r\n"
      ],
      "execution_count": 18,
      "outputs": []
    },
    {
      "cell_type": "code",
      "metadata": {
        "id": "aPW7I7AEPF3x"
      },
      "source": [
        "# delete an element from a linked list\r\n",
        "def delete_nodes(data):\r\n",
        "  head = Node(data)\r\n",
        "  if head is None:return\r\n",
        "  if head.next == data:\r\n",
        "    head = head.next\r\n",
        "    return\r\n",
        "  current = head\r\n",
        "  while current.next is not None:\r\n",
        "    if current.next.data == data:\r\n",
        "      current.next = current.next.next\r\n",
        "      return\r\n",
        "    current = current.next\r\n",
        "  return current\r\n",
        "\r\n"
      ],
      "execution_count": 21,
      "outputs": []
    },
    {
      "cell_type": "code",
      "metadata": {
        "colab": {
          "base_uri": "https://localhost:8080/"
        },
        "id": "ray3kTL-LUow",
        "outputId": "68702506-9d1c-4e86-dc53-60ee5161692c"
      },
      "source": [
        "nodeA = Node(6)\r\n",
        "insert_nodes(nodeA,None)"
      ],
      "execution_count": 17,
      "outputs": [
        {
          "output_type": "execute_result",
          "data": {
            "text/plain": [
              "<__main__.Node at 0x7f85f7db7fd0>"
            ]
          },
          "metadata": {
            "tags": []
          },
          "execution_count": 17
        }
      ]
    },
    {
      "cell_type": "code",
      "metadata": {
        "colab": {
          "base_uri": "https://localhost:8080/"
        },
        "id": "YAXp30U-TfR5",
        "outputId": "64c5920b-503c-45aa-b803-53b1de614ba8"
      },
      "source": [
        "nodeA = Node(6)\n",
        "nodeB = Node(3)\n",
        "nodeC = Node(4)\n",
        "nodeD = Node(2)\n",
        "nodeE = Node(1)\n",
        "\n",
        "nodeA.next = nodeB\n",
        "nodeB.next = nodeC\n",
        "nodeC.next = nodeD\n",
        "nodeD.next = nodeE\n",
        "\n",
        "print(\"This linked list's length is: (should print 5)\")\n",
        "print(count_nodes(nodeA))"
      ],
      "execution_count": 32,
      "outputs": [
        {
          "output_type": "stream",
          "text": [
            "This linked list's length is: (should print 5)\n",
            "5\n"
          ],
          "name": "stdout"
        }
      ]
    },
    {
      "cell_type": "code",
      "metadata": {
        "id": "CTje7jFxU1PK"
      },
      "source": [
        ""
      ],
      "execution_count": null,
      "outputs": []
    }
  ]
}